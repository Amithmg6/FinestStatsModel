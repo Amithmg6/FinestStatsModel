{
 "cells": [
  {
   "cell_type": "markdown",
   "id": "cec14faf",
   "metadata": {},
   "source": [
    "# D-Tale"
   ]
  },
  {
   "cell_type": "code",
   "execution_count": null,
   "id": "e961def1",
   "metadata": {},
   "outputs": [],
   "source": [
    "import dtale\n",
    "import seaborn as sns\n",
    "import pandas as pd"
   ]
  },
  {
   "cell_type": "code",
   "execution_count": null,
   "id": "6cc0c81a",
   "metadata": {},
   "outputs": [],
   "source": [
    "df=pd.read_csv()\n",
    "df.shape"
   ]
  },
  {
   "cell_type": "code",
   "execution_count": null,
   "id": "05bc326b",
   "metadata": {},
   "outputs": [],
   "source": [
    "dtale.show(df, ignore_duplicate=True)"
   ]
  },
  {
   "cell_type": "code",
   "execution_count": null,
   "id": "82352adc",
   "metadata": {},
   "outputs": [],
   "source": []
  },
  {
   "cell_type": "code",
   "execution_count": null,
   "id": "c2f1a9bf",
   "metadata": {},
   "outputs": [],
   "source": []
  }
 ],
 "metadata": {
  "kernelspec": {
   "display_name": "Python 3",
   "language": "python",
   "name": "python3"
  },
  "language_info": {
   "codemirror_mode": {
    "name": "ipython",
    "version": 3
   },
   "file_extension": ".py",
   "mimetype": "text/x-python",
   "name": "python",
   "nbconvert_exporter": "python",
   "pygments_lexer": "ipython3",
   "version": "3.7.10"
  }
 },
 "nbformat": 4,
 "nbformat_minor": 5
}
