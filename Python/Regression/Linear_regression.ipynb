{
 "nbformat": 4,
 "nbformat_minor": 2,
 "metadata": {
  "language_info": {
   "name": "python",
   "codemirror_mode": {
    "name": "ipython",
    "version": 3
   }
  },
  "orig_nbformat": 2,
  "file_extension": ".py",
  "mimetype": "text/x-python",
  "name": "python",
  "npconvert_exporter": "python",
  "pygments_lexer": "ipython3",
  "version": 3
 },
 "cells": [
  {
   "cell_type": "markdown",
   "execution_count": null,
   "metadata": {},
   "outputs": [],
   "source": [
    "### Linear Regression Model"
   ]
  },
  {
   "cell_type": "markdown",
   "execution_count": null,
   "metadata": {},
   "outputs": [],
   "source": [
    "This is a very simple model representing regression.\n",
    "More interesting steps are involved in building a complete model."
   ]
  },
  {
   "cell_type": "code",
   "execution_count": 1,
   "metadata": {},
   "outputs": [],
   "source": [
    "import pandas as pd\n",
    "from scipy import stats\n",
    "import matplotlib.pyplot as myplot\n",
    "from pandas.plotting import scatter_matrix\n",
    "from statsmodels.formula.api import ols\n",
    "from statsmodels.stats.anova import anova_lm"
   ]
  },
  {
   "cell_type": "code",
   "execution_count": 2,
   "metadata": {},
   "outputs": [],
   "source": [
    "mydata = pd.read_csv(\"F:/GitHub Repo/FinestStatsModel/FinestStatsModel/Python/data/Mult_Reg_Yield.csv\")"
   ]
  },
  {
   "cell_type": "code",
   "execution_count": 8,
   "metadata": {},
   "outputs": [
    {
     "data": {
      "text/html": "<div>\n<style scoped>\n    .dataframe tbody tr th:only-of-type {\n        vertical-align: middle;\n    }\n\n    .dataframe tbody tr th {\n        vertical-align: top;\n    }\n\n    .dataframe thead th {\n        text-align: right;\n    }\n</style>\n<table border=\"1\" class=\"dataframe\">\n  <thead>\n    <tr style=\"text-align: right;\">\n      <th></th>\n      <th>Time</th>\n      <th>Temperature</th>\n      <th>Yield</th>\n    </tr>\n  </thead>\n  <tbody>\n    <tr>\n      <th>1</th>\n      <td>174</td>\n      <td>176</td>\n      <td>81.7</td>\n    </tr>\n    <tr>\n      <th>2</th>\n      <td>134</td>\n      <td>205</td>\n      <td>42.5</td>\n    </tr>\n    <tr>\n      <th>3</th>\n      <td>191</td>\n      <td>210</td>\n      <td>98.3</td>\n    </tr>\n    <tr>\n      <th>4</th>\n      <td>165</td>\n      <td>230</td>\n      <td>52.7</td>\n    </tr>\n  </tbody>\n</table>\n</div>",
      "text/plain": "   Time  Temperature  Yield\n1   174          176   81.7\n2   134          205   42.5\n3   191          210   98.3\n4   165          230   52.7"
     },
     "execution_count": 8,
     "metadata": {},
     "output_type": "execute_result"
    }
   ],
   "source": [
    "mydata[1:5]"
   ]
  },
  {
   "cell_type": "code",
   "execution_count": 9,
   "metadata": {},
   "outputs": [],
   "source": [
    "time = mydata.Time\n",
    "temp = mydata.Temperature\n",
    "output = mydata.Yield"
   ]
  },
  {
   "cell_type": "code",
   "execution_count": 10,
   "metadata": {},
   "outputs": [
    {
     "name": "stderr",
     "output_type": "stream",
     "text": "C:\\Users\\kotre\\Anaconda3\\lib\\site-packages\\scipy\\stats\\stats.py:1416: UserWarning: kurtosistest only valid for n>=20 ... continuing anyway, n=16\n  \"anyway, n=%i\" % int(n))\n"
    },
    {
     "data": {
      "text/html": "<table class=\"simpletable\">\n<caption>OLS Regression Results</caption>\n<tr>\n  <th>Dep. Variable:</th>         <td>output</td>      <th>  R-squared:         </th> <td>   0.806</td>\n</tr>\n<tr>\n  <th>Model:</th>                   <td>OLS</td>       <th>  Adj. R-squared:    </th> <td>   0.777</td>\n</tr>\n<tr>\n  <th>Method:</th>             <td>Least Squares</td>  <th>  F-statistic:       </th> <td>   27.07</td>\n</tr>\n<tr>\n  <th>Date:</th>             <td>Sat, 09 Nov 2019</td> <th>  Prob (F-statistic):</th> <td>2.32e-05</td>\n</tr>\n<tr>\n  <th>Time:</th>                 <td>23:34:25</td>     <th>  Log-Likelihood:    </th> <td> -59.703</td>\n</tr>\n<tr>\n  <th>No. Observations:</th>      <td>    16</td>      <th>  AIC:               </th> <td>   125.4</td>\n</tr>\n<tr>\n  <th>Df Residuals:</th>          <td>    13</td>      <th>  BIC:               </th> <td>   127.7</td>\n</tr>\n<tr>\n  <th>Df Model:</th>              <td>     2</td>      <th>                     </th>     <td> </td>   \n</tr>\n<tr>\n  <th>Covariance Type:</th>      <td>nonrobust</td>    <th>                     </th>     <td> </td>   \n</tr>\n</table>\n<table class=\"simpletable\">\n<tr>\n      <td></td>         <th>coef</th>     <th>std err</th>      <th>t</th>      <th>P>|t|</th>  <th>[0.025</th>    <th>0.975]</th>  \n</tr>\n<tr>\n  <th>Intercept</th> <td>  -67.8844</td> <td>   40.587</td> <td>   -1.673</td> <td> 0.118</td> <td> -155.566</td> <td>   19.797</td>\n</tr>\n<tr>\n  <th>time</th>      <td>    0.9061</td> <td>    0.123</td> <td>    7.344</td> <td> 0.000</td> <td>    0.640</td> <td>    1.173</td>\n</tr>\n<tr>\n  <th>temp</th>      <td>   -0.0642</td> <td>    0.164</td> <td>   -0.392</td> <td> 0.702</td> <td>   -0.418</td> <td>    0.290</td>\n</tr>\n</table>\n<table class=\"simpletable\">\n<tr>\n  <th>Omnibus:</th>       <td> 1.984</td> <th>  Durbin-Watson:     </th> <td>   1.957</td>\n</tr>\n<tr>\n  <th>Prob(Omnibus):</th> <td> 0.371</td> <th>  Jarque-Bera (JB):  </th> <td>   0.970</td>\n</tr>\n<tr>\n  <th>Skew:</th>          <td>-0.078</td> <th>  Prob(JB):          </th> <td>   0.616</td>\n</tr>\n<tr>\n  <th>Kurtosis:</th>      <td> 1.804</td> <th>  Cond. No.          </th> <td>3.91e+03</td>\n</tr>\n</table><br/><br/>Warnings:<br/>[1] Standard Errors assume that the covariance matrix of the errors is correctly specified.<br/>[2] The condition number is large, 3.91e+03. This might indicate that there are<br/>strong multicollinearity or other numerical problems.",
      "text/plain": "<class 'statsmodels.iolib.summary.Summary'>\n\"\"\"\n                            OLS Regression Results                            \n==============================================================================\nDep. Variable:                 output   R-squared:                       0.806\nModel:                            OLS   Adj. R-squared:                  0.777\nMethod:                 Least Squares   F-statistic:                     27.07\nDate:                Sat, 09 Nov 2019   Prob (F-statistic):           2.32e-05\nTime:                        23:34:25   Log-Likelihood:                -59.703\nNo. Observations:                  16   AIC:                             125.4\nDf Residuals:                      13   BIC:                             127.7\nDf Model:                           2                                         \nCovariance Type:            nonrobust                                         \n==============================================================================\n                 coef    std err          t      P>|t|      [0.025      0.975]\n------------------------------------------------------------------------------\nIntercept    -67.8844     40.587     -1.673      0.118    -155.566      19.797\ntime           0.9061      0.123      7.344      0.000       0.640       1.173\ntemp          -0.0642      0.164     -0.392      0.702      -0.418       0.290\n==============================================================================\nOmnibus:                        1.984   Durbin-Watson:                   1.957\nProb(Omnibus):                  0.371   Jarque-Bera (JB):                0.970\nSkew:                          -0.078   Prob(JB):                        0.616\nKurtosis:                       1.804   Cond. No.                     3.91e+03\n==============================================================================\n\nWarnings:\n[1] Standard Errors assume that the covariance matrix of the errors is correctly specified.\n[2] The condition number is large, 3.91e+03. This might indicate that there are\nstrong multicollinearity or other numerical problems.\n\"\"\""
     },
     "execution_count": 10,
     "metadata": {},
     "output_type": "execute_result"
    }
   ],
   "source": [
    "mymodel = ols(\"output ~ time + temp\", mydata).fit()\n",
    "mymodel.summary()"
   ]
  },
  {
   "cell_type": "code",
   "execution_count": null,
   "metadata": {},
   "outputs": [],
   "source": []
  }
 ]
}