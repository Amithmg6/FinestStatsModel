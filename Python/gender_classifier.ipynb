{
 "cells": [
  {
   "cell_type": "markdown",
   "metadata": {},
   "source": [
    "# Contructing gender identifier"
   ]
  },
  {
   "cell_type": "code",
   "execution_count": 7,
   "metadata": {},
   "outputs": [
    {
     "name": "stderr",
     "output_type": "stream",
     "text": [
      "[nltk_data] Downloading package names to\n",
      "[nltk_data]     C:\\Users\\kotre\\AppData\\Roaming\\nltk_data...\n",
      "[nltk_data]   Unzipping corpora\\names.zip.\n"
     ]
    },
    {
     "data": {
      "text/plain": [
       "True"
      ]
     },
     "execution_count": 7,
     "metadata": {},
     "output_type": "execute_result"
    }
   ],
   "source": [
    "import random\n",
    "\n",
    "from nltk import NaiveBayesClassifier\n",
    "from nltk.classify import accuracy as nltk_accuracy\n",
    "from nltk.corpus import names\n",
    "\n",
    "import nltk\n",
    "nltk.download('names')"
   ]
  },
  {
   "cell_type": "code",
   "execution_count": 14,
   "metadata": {},
   "outputs": [],
   "source": [
    "def extract_features(word, N=2):\n",
    "\tlast_n_letters = word[-N:]\n",
    "\treturn {'feature' : last_n_letters.lower()}\n"
   ]
  },
  {
   "cell_type": "code",
   "execution_count": 15,
   "metadata": {},
   "outputs": [],
   "source": [
    "if __name__=='__main__':\n",
    "\tmale_list = [(name, 'male') for name in names.words('male.txt')]\n",
    "\tfemale_list = [(name, 'female') for name in names.words('female.txt')]\n",
    "\tdata = (male_list+female_list)\n"
   ]
  },
  {
   "cell_type": "code",
   "execution_count": 16,
   "metadata": {},
   "outputs": [],
   "source": [
    "random.seed(5)\n",
    "random.shuffle(data)\n",
    "input_names = ['Alexander','David','cheryl','Danielle']\n",
    "num_train = int(0.8 * len(data))"
   ]
  },
  {
   "cell_type": "code",
   "execution_count": 17,
   "metadata": {},
   "outputs": [
    {
     "name": "stdout",
     "output_type": "stream",
     "text": [
      "\n",
      "Number of end letters: 1\n",
      "\n",
      "Number of end letters: 2\n",
      "\n",
      "Number of end letters: 3\n",
      "\n",
      "Number of end letters: 4\n",
      "\n",
      "Number of end letters: 5\n"
     ]
    }
   ],
   "source": [
    "for i in range(1, 6):\n",
    "\tprint(\"\\nNumber of end letters:\", i)\n",
    "\tfeatures = [(extract_features(n, i), gender) for (n, gender) in data]"
   ]
  },
  {
   "cell_type": "code",
   "execution_count": 19,
   "metadata": {},
   "outputs": [],
   "source": [
    "train_data, test_data = features[:num_train], features[num_train:]\n",
    "classifier = NaiveBayesClassifier.train(train_data)\n",
    "accuracy = round(100 * nltk_accuracy(classifier, test_data), 2)"
   ]
  },
  {
   "cell_type": "code",
   "execution_count": 22,
   "metadata": {},
   "outputs": [
    {
     "name": "stdout",
     "output_type": "stream",
     "text": [
      "Accuracy = 64.63%\n"
     ]
    }
   ],
   "source": [
    "print('Accuracy = ' + str(accuracy) + '%')"
   ]
  },
  {
   "cell_type": "code",
   "execution_count": 23,
   "metadata": {},
   "outputs": [
    {
     "name": "stdout",
     "output_type": "stream",
     "text": [
      "Alexander ==> male\n",
      "David ==> male\n",
      "cheryl ==> female\n",
      "Danielle ==> female\n"
     ]
    }
   ],
   "source": [
    "for name in input_names:\n",
    "    print(name, '==>', classifier.classify(extract_features(name, i)))"
   ]
  },
  {
   "cell_type": "code",
   "execution_count": null,
   "metadata": {},
   "outputs": [],
   "source": []
  },
  {
   "cell_type": "code",
   "execution_count": null,
   "metadata": {},
   "outputs": [],
   "source": []
  },
  {
   "cell_type": "code",
   "execution_count": null,
   "metadata": {},
   "outputs": [],
   "source": []
  }
 ],
 "metadata": {
  "kernelspec": {
   "display_name": "Python 3",
   "language": "python",
   "name": "python3"
  },
  "language_info": {
   "codemirror_mode": {
    "name": "ipython",
    "version": 3
   },
   "file_extension": ".py",
   "mimetype": "text/x-python",
   "name": "python",
   "nbconvert_exporter": "python",
   "pygments_lexer": "ipython3",
   "version": "3.7.3"
  }
 },
 "nbformat": 4,
 "nbformat_minor": 2
}
